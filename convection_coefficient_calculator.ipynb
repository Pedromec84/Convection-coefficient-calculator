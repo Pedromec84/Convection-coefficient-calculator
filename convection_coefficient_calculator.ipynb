{
  "nbformat": 4,
  "nbformat_minor": 0,
  "metadata": {
    "colab": {
      "provenance": []
    },
    "kernelspec": {
      "name": "python3",
      "display_name": "Python 3"
    },
    "language_info": {
      "name": "python"
    }
  },
  "cells": [
    {
      "cell_type": "code",
      "source": [
        "!pip install CoolProp"
      ],
      "metadata": {
        "colab": {
          "base_uri": "https://localhost:8080/"
        },
        "id": "ity208763IQw",
        "outputId": "9b022281-6e3c-4f27-b999-7e7c902f2461"
      },
      "execution_count": null,
      "outputs": [
        {
          "output_type": "stream",
          "name": "stdout",
          "text": [
            "Looking in indexes: https://pypi.org/simple, https://us-python.pkg.dev/colab-wheels/public/simple/\n",
            "Collecting CoolProp\n",
            "  Downloading CoolProp-6.4.3.post1-cp39-cp39-manylinux_2_17_x86_64.manylinux2014_x86_64.whl (6.2 MB)\n",
            "\u001b[2K     \u001b[90m━━━━━━━━━━━━━━━━━━━━━━━━━━━━━━━━━━━━━━━━\u001b[0m \u001b[32m6.2/6.2 MB\u001b[0m \u001b[31m56.9 MB/s\u001b[0m eta \u001b[36m0:00:00\u001b[0m\n",
            "\u001b[?25hInstalling collected packages: CoolProp\n",
            "Successfully installed CoolProp-6.4.3.post1\n"
          ]
        }
      ]
    },
    {
      "cell_type": "code",
      "source": [
        "import CoolProp.CoolProp as CP\n",
        "\n",
        "# Get fluid properties from CoolProp\n",
        "fluid = input(\"Enter the fluid type (e.g. water, air): \")\n",
        "T_inf = float(input(\"Enter the fluid temperature [°C]: \"))\n",
        "T_s = float(input(\"Enter the surface temperature [°C]: \"))\n",
        "p_inf = float(input(\"Enter the fluid pressure [bar]: \"))\n",
        "#Dependendo da correlação que será utilizada, as propriedades dos fluidos derão ser avaliadas na temperatura média do fuido, Tf =(T_inf+T_s)/2\n",
        "T_f =(T_inf+T_s)/2\n",
        "rho = CP.PropsSI(\"D\", \"T\", T_f + 273.15, \"P\", p_inf * 1e5, fluid)\n",
        "k = CP.PropsSI(\"conductivity\", \"T\", T_f + 273.15, \"P\", p_inf * 1e5, fluid)\n",
        "mu = CP.PropsSI(\"viscosity\", \"T\", T_f + 273.15, \"P\", p_inf * 1e5, fluid)\n",
        "nu = mu/rho\n",
        "Pr = CP.PropsSI(\"Prandtl\", \"T\", T_f + 273.15, \"P\", p_inf * 1e5, fluid)\n",
        "cp = CP.PropsSI(\"CPMASS\", \"T\", T_f + 273.15, \"P\", p_inf * 1e5, fluid)\n",
        "beta = CP.PropsSI(\"ISOBARIC_EXPANSION_COEFFICIENT\", \"T\", T_f + 273.15, \"P\", p_inf * 1e5, fluid)\n",
        "\n",
        "# Print fluid properties\n",
        "print('The specific mass is: '+str(round(rho ,5))+' kg/m^3')\n",
        "print('The thermal conditivity: '+str(round(k ,5))+' W/(m-K)')\n",
        "print(f\"The absolut viscosity: {mu} Pa.s\")\n",
        "print(f\"The kinematic viscosity: {nu} m^2/s\")\n",
        "print('The Prandtl number is: '+str(round(Pr ,5)))\n",
        "print('The specific heat is: '+str(round(cp ,5))+' J/kg-K')\n",
        "print('The Vol. Expansivity is: '+str(round(beta ,7))+' 1/K')"
      ],
      "metadata": {
        "colab": {
          "base_uri": "https://localhost:8080/"
        },
        "id": "NoH7_u3-2lVv",
        "outputId": "53ea03a6-7f52-4aef-900b-5501dcf0b8d4"
      },
      "execution_count": null,
      "outputs": [
        {
          "output_type": "stream",
          "name": "stdout",
          "text": [
            "Enter the fluid type (e.g. water, air): air\n",
            "Enter the fluid temperature [°C]: 5\n",
            "Enter the surface temperature [°C]: 12\n",
            "Enter the fluid pressure [bar]: 1.01325\n",
            "The specific mass is: 1.25391 kg/m^3\n",
            "The thermal conditivity: 0.02501 W/(m-K)\n",
            "The absolut viscosity: 1.7641516468268003e-05 Pa.s\n",
            "The kinematic viscosity: 1.4069185443939391e-05 m^2/s\n",
            "The Prandtl number is: 0.70956\n",
            "The specific heat is: 1005.8415 J/kg-K\n",
            "The Vol. Expansivity is: 0.003562 1/K\n"
          ]
        }
      ]
    },
    {
      "cell_type": "code",
      "source": [
        "import math\n",
        "import numpy as np\n",
        "\n",
        "# Função para resolver f (fator de atrito) da Equação de Colebrook. Diagrama de Moody\n",
        "def f(x): \n",
        "    LHS = -2*np.log10((2.51/(Re*np.sqrt(x))) + (Epsod/3.71))\n",
        "    return 1/LHS**2\n",
        "\n",
        "# Get input parameters from user\n",
        "flow_type = input(\"Enter the flow type (external or internal): \")\n",
        "surface_type = \"\"\n",
        "if flow_type == \"external\":\n",
        "    surface_type = input(\"Enter the surface type fp* (*=flat plate) or cfc** (**=cross flow cylinder): \")\n",
        "velocity = float(input(\"Enter the fluid velocity [m/s]: \"))\n",
        "diameter = 0\n",
        "length = 0\n",
        "if flow_type == \"internal\":\n",
        "    diameter = float(input(\"Enter the tube diameter [m]: \"))\n",
        "    length = float(input(\"Enter the tube length [m]: \"))\n",
        "else:\n",
        "    diameter = float(input(\"Enter the tube diameter [m]: \"))\n",
        "    length = float(input(\"Enter the surface length [m]: \"))\n",
        "\n",
        "# Calculate Reynolds number and flow regime\n",
        "if flow_type == \"internal\":\n",
        "    Re = (velocity * diameter) / nu\n",
        "    if Re < 2300:\n",
        "        flow_regime = \"laminar\"\n",
        "        f = 64 / Re\n",
        "        Nu = 4.36 # constant heat flux on the surface, Nu =4.36\n",
        "        h = Nu * k/ diameter\n",
        "    else:\n",
        "        flow_regime = \"turbulent\"\n",
        "        Eps = float(input(\"Enter the material roughness (Eps): [m]\"))\n",
        "        Epsod = Eps/diameter \n",
        "        f = f(0.001)\n",
        "        #f = (-2.0*math.log10(Epsod/3.7 + 2.51/(Re*f**0.5)))**(-2) # Eq. de Colebrook. Diagrama de Moody\n",
        "        #f = 0.25 / ((math.log10((diameter / 2) / (0.00015 * (3.7 * diameter / 2)**1.11)))**2)\n",
        "        H_C = input(\"Is the fluid heating or cooling?: \")\n",
        "        if H_C == \"heating\": \n",
        "          Nu = 0.023*Re**0.8*Pr**0.4 # Dittus-Boelter correlation\n",
        "          h = Nu * k/ diameter\n",
        "        else: #cooling\n",
        "          Nu = 0.023*Re**0.8*Pr**0.3 # Dittus-Boelter correlation\n",
        "          h = Nu * k/ diameter \n",
        "else: #external\n",
        "    if surface_type == \"fp\":\n",
        "      Re = (velocity * length) / nu\n",
        "      if Re < 5e5:\n",
        "        flow_regime = \"laminar\"\n",
        "        Nu = 0.664*Re**0.5*Pr**(1/3)\n",
        "        h = Nu * k/ length\n",
        "      else: # turbulent\n",
        "        flow_regime = \"turbulent\"\n",
        "        Nu = (0.037 * Re**0.8 - 871)*Pr**(1/3)\n",
        "        h = Nu * k/ length\n",
        "    else: # surface_type == \"cfc\"\n",
        "        Re = (velocity * diameter) / nu\n",
        "        Nu = 0.3 + ((0.62*(Re**(1/2))*(Pr**(1/3)))/(1+(0.4/Pr)**(2/3))**(1/4))*(1+(Re/282000)**(5/8))**(4/5) # |Churchill & Bernstein correlation. \n",
        "        #Use to Re*Pr> 0,2. As propriedades dos fluidos devem ser avaliadas na temperatura média do fuido, Tf =(T_inf+T_s)/2\n",
        "        h = Nu * k/ diameter\n",
        "      \n",
        "# Print results\n",
        "print(\"Fluid properties:\")\n",
        "print(\"Thermal conductivity (k): {:.4f} W/(m*K)\".format(k))\n",
        "print(\"Kinematic viscosity (nu): {:.4e} m^2/s\".format(nu))\n",
        "print(\"Prandtl number (Pr): {:.4f}\".format(Pr))\n",
        "print(\"Specific heat (cp): {:.4f} J/(kg*K)\".format(cp))\n",
        "\n",
        "print(\"\\nReynolds number (Re): {:.2f}\".format(Re))\n",
        "print(\"Flow regime: {}\".format(flow_regime))\n",
        "print(\"Nusselt Number: {:.2f}\".format(Nu))\n",
        "#print(\"Friction factor (f): {:.4f}\".format(f))\n",
        "print(\"\\nCoefficient of forced convection (h): {:.2f} W/(m^2*K)\".format(h))"
      ],
      "metadata": {
        "colab": {
          "base_uri": "https://localhost:8080/"
        },
        "id": "QFJ6fKeY5ZnL",
        "outputId": "17807f01-2f05-4265-9aa7-62026c9b0244"
      },
      "execution_count": null,
      "outputs": [
        {
          "output_type": "stream",
          "name": "stdout",
          "text": [
            "Enter the flow type (external or internal): external\n",
            "Enter the surface type fp* (*=flat plate) or cfc** (**=cross flow cylinder): fp\n",
            "Enter the fluid velocity [m/s]: 11.67\n",
            "Enter the tube diameter [m]: 1\n",
            "Enter the surface length [m]: 10\n",
            "Fluid properties:\n",
            "Thermal conductivity (k): 0.0250 W/(m*K)\n",
            "Kinematic viscosity (nu): 1.4069e-05 m^2/s\n",
            "Prandtl number (Pr): 0.7096\n",
            "Specific heat (cp): 1005.8415 J/(kg*K)\n",
            "\n",
            "Reynolds number (Re): 8294723.28\n",
            "Flow regime: turbulent\n",
            "Nusselt Number: 10536.01\n",
            "\n",
            "Coefficient of forced convection (h): 26.35 W/(m^2*K)\n"
          ]
        }
      ]
    },
    {
      "cell_type": "code",
      "source": [
        "# Calculate the coefficient of natural convection for external flows\n",
        "if flow_type == \"external\":\n",
        "  plate_type = input(\"Enter the plate type (vertical or horizontal) or vertical cylinder: \")\n",
        "  if plate_type == \"vertical\":\n",
        "        Gr = (9.81 * beta* (abs(T_s - T_inf)) * (length**3)) / (nu**2)\n",
        "        Ra = Gr * Pr\n",
        "        if Ra < 1e4:\n",
        "            h_nat = 0\n",
        "        else: \n",
        "            Nu= (0.825 + (0.387*Ra**(1/6))/(1+(0.492/Pr)**(9/16)**(8/27)))**2\n",
        "            h_nat = Nu*k/ length\n",
        "  if plate_type == \"horizontal\":\n",
        "      w=1\n",
        "      L_c= w*length/(2*(w+length))\n",
        "      Gr = (9.81 * beta* (abs(T_s - T_inf)) * (L_c**3)) / (nu**2)\n",
        "      Ra = Gr * Pr\n",
        "      if Ra >= 1e4 and Ra <= 1e7:\n",
        "        Nu= 0.54*Ra**(1/4)\n",
        "        h_nat = Nu*k/ L_c\n",
        "      if Ra >= 1e7 and Ra <= 1e11:\n",
        "        Nu= 0.15*Ra**(1/3)\n",
        "        h_nat = Nu*k/ L_c             \n",
        "  else: # vertical cylinder\n",
        "      diameter >= 35*length/Gr**(1/4)\n",
        "      Nu= (0.825 + (0.387*Ra**(1/6))/(1+(0.492/Pr)**(9/16)**(8/27)))**2\n",
        "      h_nat = Nu*k/ length\n",
        "\n",
        "\n",
        "if flow_type == \"external\":\n",
        "    print(\"Grashof number (Gr): {:.4e}\".format(Gr))\n",
        "    print(\"Rayleigh number (Ra): {:.4e}\".format(Ra))\n",
        "    print(\"Coefficient of natural convection (h_nat): {:.4f} W/(m^2*K)\".format(h_nat))\n"
      ],
      "metadata": {
        "colab": {
          "base_uri": "https://localhost:8080/"
        },
        "id": "pMtDcAZtObS2",
        "outputId": "9751224b-16c5-409a-f380-f49dedc20eb0"
      },
      "execution_count": null,
      "outputs": [
        {
          "output_type": "stream",
          "name": "stdout",
          "text": [
            "Enter the plate type (vertical or horizontal) or vertical cylinder: horizontal \n",
            "Grashof number (Gr): 1.6120e+11\n",
            "Rayleigh number (Ra): 1.1297e+12\n",
            "Coefficient of natural convection (h_nat): 797.5463 W/(m^2*K)\n"
          ]
        }
      ]
    },
    {
      "cell_type": "code",
      "source": [],
      "metadata": {
        "id": "XiNSsPhMqDex"
      },
      "execution_count": null,
      "outputs": []
    }
  ]
}